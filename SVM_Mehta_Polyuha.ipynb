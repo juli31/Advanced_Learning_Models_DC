{
 "cells": [
  {
   "cell_type": "code",
   "execution_count": null,
   "metadata": {},
   "outputs": [],
   "source": [
    "import numpy as np\n",
    "import pandas as pd\n",
    "import cvxopt\n",
    "import cvxopt.solvers\n",
    "from collections import Counter\n",
    "from itertools import combinations_with_replacement\n",
    "from time import time"
   ]
  },
  {
   "cell_type": "markdown",
   "metadata": {},
   "source": [
    "**Reading files**"
   ]
  },
  {
   "cell_type": "code",
   "execution_count": null,
   "metadata": {},
   "outputs": [],
   "source": [
    "xtr0 = pd.read_csv(\"Data/Xtr0.csv\", \" \", header=0)\n",
    "xtr1 = pd.read_csv(\"Data/Xtr1.csv\", \" \", header=0)\n",
    "xtr2 = pd.read_csv(\"Data/Xtr2.csv\", \" \", header=0)\n",
    "xtrain_temp = np.append(np.append(xtr0, xtr1), xtr2)\n",
    "xtrain = np.array(xtrain_temp)\n",
    "\n",
    "xte0 = pd.read_csv(\"Data/Xte0.csv\", \" \", header=0)\n",
    "xte1 = pd.read_csv(\"Data/Xte1.csv\", \" \", header=0)\n",
    "xte2 = pd.read_csv(\"Data/Xte2.csv\", \" \", header=0)\n",
    "xtest_temp = np.append(np.append(xte0, xte1), xte2)\n",
    "xtest = np.array(xtest_temp)\n",
    "\n",
    "ytr0 = pd.read_csv(\"Data/Ytr0.csv\", index_col=0, header=0)\n",
    "ytr1 = pd.read_csv(\"Data/Ytr1.csv\", index_col=0, header=0)\n",
    "ytr2 = pd.read_csv(\"Data/Ytr2.csv\", index_col=0, header=0)\n",
    "ytrain_temp = np.append(np.append(ytr0, ytr1), ytr2)\n",
    "ytrain = np.array(ytrain_temp)\n",
    "ytrain[ytrain[:] == 0] = -1"
   ]
  },
  {
   "cell_type": "markdown",
   "metadata": {},
   "source": [
    "**Preparing features: kmers**"
   ]
  },
  {
   "cell_type": "code",
   "execution_count": null,
   "metadata": {},
   "outputs": [],
   "source": [
    "def create_kmers(x, y, test, k):\n",
    "    subseq = create_subsequences(k)\n",
    "    index = np.arange(0, len(subseq))\n",
    "    features_train = prepare_data(x, subseq, index, k)\n",
    "\n",
    "    if test.size != 0:\n",
    "        features_test = prepare_data(test,subseq, index, k)\n",
    "        return features_train , features_test\n",
    "    else:\n",
    "        return features_train    \n",
    "\n",
    "def create_subsequences(length):\n",
    "    p = ['A','C','G','T','C','G','T','A','G','T','A','C','T','A','C','G', 'A','C','G','T']\n",
    "    subseq = []\n",
    "    for i in combinations_with_replacement(p, length):\n",
    "        subseq.append(list(i))\n",
    "    subseq = np.asarray(subseq)    \n",
    "    subseq= np.unique(subseq, axis = 0) \n",
    "    subseq =[\"\".join(j) for j in subseq[:,:].astype(str)]\n",
    "    \n",
    "    return subseq\n",
    "\n",
    "def prepare_data(x, subsequence, index, k):\n",
    "    features = np.zeros((len(x), len(subsequence)))   #To store the occurence of each string\n",
    "    for i in range(0,len(x)):\n",
    "        s = x[i]\n",
    "        c = [ s[j:j+k] for j in range(len(s)-k+1) ]\n",
    "        counter = Counter(c)\n",
    "        j=0\n",
    "        for m in subsequence:\n",
    "            features[i][j] = counter[m]\n",
    "            j=j+1\n",
    "\n",
    "    features_train = features[:,index]\n",
    "    features_train = features_train / np.max(np.abs(features_train),axis=0)\n",
    "    return features_train\n"
   ]
  },
  {
   "cell_type": "markdown",
   "metadata": {},
   "source": [
    "**Different non linear kernels**"
   ]
  },
  {
   "cell_type": "code",
   "execution_count": null,
   "metadata": {},
   "outputs": [],
   "source": [
    "def polynomial_kernel(x, y, p = 3):\n",
    "    return (1 + np.dot(x, y)) ** p\n",
    "\n",
    "def rbf_kernel(x, y, sigma = 3):\n",
    "    return np.exp(-np.linalg.norm(x-y)**2 / (2 * (sigma ** 2)))\n",
    "\n",
    "def linear_kernel(x, y):\n",
    "    return np.inner(x, y)"
   ]
  },
  {
   "cell_type": "code",
   "execution_count": null,
   "metadata": {},
   "outputs": [],
   "source": [
    "class SVM(object):\n",
    "    def __init__(self, kernel = polynomial_kernel, C = 1):\n",
    "        self.kernel = kernel\n",
    "        self.C = C\n",
    "            \n",
    "    def fit_svm(self, x, y):\n",
    "        num_obs, num_features = x.shape\n",
    "        #Gram matrix\n",
    "        Gram = np.zeros((num_obs, num_obs))\n",
    "        print(\"Computing Gram matrix:\")\n",
    "        for i in range(num_obs):\n",
    "            if (i%100 == 0):\n",
    "               print(i, \"/\", num_obs)\n",
    "            for j in range(num_obs):\n",
    "                Gram[i,j] = self.kernel(x[i], x[j])  \n",
    "                \n",
    "        #Components for quadratic program problem        \n",
    "        P = cvxopt.matrix(np.outer(y,y) * Gram)\n",
    "        q = cvxopt.matrix(-np.ones((num_obs, 1)))\n",
    "        A = cvxopt.matrix(y, (1, num_obs), 'd')\n",
    "        b = cvxopt.matrix(np.zeros(1))\n",
    "        diag = np.diag(np.ones(num_obs) * -1)\n",
    "        identity = np.identity(num_obs)\n",
    "        G = cvxopt.matrix(np.vstack((diag, identity)))\n",
    "        h = cvxopt.matrix(np.hstack((np.zeros(num_obs), np.ones(num_obs) * self.C)))\n",
    "        \n",
    "        #Solving quadratic progam problem\n",
    "        sol = cvxopt.solvers.qp(P, q, G, h, A, b)\n",
    "        alphas = np.ravel(sol['x'])\n",
    "        \n",
    "        #Support vectors have non zero lagrange multipliers, cut off at 1e-6\n",
    "        sup_vec = alphas > 1e-6\n",
    "        ind = np.arange(len(alphas))[sup_vec]        \n",
    "        \n",
    "        #Creating support vectors\n",
    "        self.alphas = alphas[sup_vec]\n",
    "        self.sup_vec = x[sup_vec]\n",
    "        self.sup_vec_y = y[sup_vec]\n",
    "        \n",
    "        #Fitting support vectors with the intercept\n",
    "        self.b = 0\n",
    "        for i in range(len(self.alphas)):\n",
    "            self.b += self.sup_vec_y[i]\n",
    "            self.b -= np.sum(self.alphas * self.sup_vec_y * Gram[ind[i],sup_vec])\n",
    "        self.b /= len(self.alphas)\n",
    "        print(self.b)\n",
    "        \n",
    "        #Weight for non linear kernel(polynomial or rbf)\n",
    "        self.w = None  \n",
    "            \n",
    "    #Predict the sign\n",
    "    def predict(self, X):\n",
    "        y_pred = np.zeros(len(X))\n",
    "        for i in range(len(X)):\n",
    "            s = 0\n",
    "            for alphas, sup_vec_y, sup_vec in zip(self.alphas, self.sup_vec_y, self.sup_vec):\n",
    "                s += alphas * sup_vec_y * self.kernel(X[i], sup_vec)\n",
    "            y_pred[i] = s\n",
    "        return np.sign(y_pred + self.b)"
   ]
  },
  {
   "cell_type": "code",
   "execution_count": null,
   "metadata": {},
   "outputs": [],
   "source": [
    "#Creating features\n",
    "x_trainf, x_testf = create_kmers(xtrain, ytrain, xtest, k=5)\n",
    "#Initialization\n",
    "svm = SVM(polynomial_kernel, 0.1)\n",
    "#SVM Fitting\n",
    "start = time()\n",
    "svm.fit_svm(x_trainf, ytrain)\n",
    "#Prediction\n",
    "print(\"Predicting:\")\n",
    "prediction = svm.predict(x_testf)\n",
    "end = time()\n",
    "print(\"Training and prediction time is:\", round(end - start, 2), \"s\")"
   ]
  },
  {
   "cell_type": "markdown",
   "metadata": {},
   "source": [
    "**Saving Prediction to file**"
   ]
  },
  {
   "cell_type": "code",
   "execution_count": null,
   "metadata": {},
   "outputs": [],
   "source": [
    "col2 = prediction\n",
    "col2[col2 == -1] = 0\n",
    "col2 = col2.astype(int)\n",
    "col1 = range(0, col2.shape[0])\n",
    "predictions = pd.DataFrame({'Id': col1, 'Bound': col2})\n",
    "predictions.to_csv('Yte.csv', sep=',', encoding='utf-8',index=False)\n",
    "print(\"Predictions are saved to Yte.csv\")"
   ]
  }
 ],
 "metadata": {
  "kernelspec": {
   "display_name": "Python 3",
   "language": "python",
   "name": "python3"
  },
  "language_info": {
   "codemirror_mode": {
    "name": "ipython",
    "version": 3
   },
   "file_extension": ".py",
   "mimetype": "text/x-python",
   "name": "python",
   "nbconvert_exporter": "python",
   "pygments_lexer": "ipython3",
   "version": "3.6.8"
  }
 },
 "nbformat": 4,
 "nbformat_minor": 2
}
